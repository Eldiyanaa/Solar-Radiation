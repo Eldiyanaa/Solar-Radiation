{
 "cells": [
  {
   "cell_type": "code",
   "execution_count": 6,
   "metadata": {},
   "outputs": [],
   "source": [
    "import pandas as pd\n",
    "import numpy as np\n",
    "import sys,os\n",
    "import seaborn as sns\n",
    "import matplotlib.pyplot as plt\n",
    "plt.style.use('ggplot')"
   ]
  },
  {
   "cell_type": "markdown",
   "metadata": {},
   "source": [
    "# Data path"
   ]
  },
  {
   "cell_type": "code",
   "execution_count": 7,
   "metadata": {},
   "outputs": [],
   "source": [
    "df = pd.read_csv('../data/benin-malanville.csv')\n",
    "da = pd.read_csv('../data/sierraleone-bumbuna.csv')\n",
    "dt = pd.read_csv('../data/togo-dapaong_qc.csv')"
   ]
  },
  {
   "cell_type": "markdown",
   "metadata": {},
   "source": [
    "# Data Types"
   ]
  },
  {
   "cell_type": "code",
   "execution_count": 8,
   "metadata": {},
   "outputs": [
    {
     "data": {
      "text/plain": [
       "Timestamp         object\n",
       "GHI              float64\n",
       "DNI              float64\n",
       "DHI              float64\n",
       "ModA             float64\n",
       "ModB             float64\n",
       "Tamb             float64\n",
       "RH               float64\n",
       "WS               float64\n",
       "WSgust           float64\n",
       "WSstdev          float64\n",
       "WD               float64\n",
       "WDstdev          float64\n",
       "BP                 int64\n",
       "Cleaning           int64\n",
       "Precipitation    float64\n",
       "TModA            float64\n",
       "TModB            float64\n",
       "Comments         float64\n",
       "dtype: object"
      ]
     },
     "execution_count": 8,
     "metadata": {},
     "output_type": "execute_result"
    }
   ],
   "source": [
    "df.dtypes"
   ]
  },
  {
   "cell_type": "code",
   "execution_count": 9,
   "metadata": {},
   "outputs": [
    {
     "data": {
      "text/plain": [
       "Timestamp         object\n",
       "GHI              float64\n",
       "DNI              float64\n",
       "DHI              float64\n",
       "ModA             float64\n",
       "ModB             float64\n",
       "Tamb             float64\n",
       "RH               float64\n",
       "WS               float64\n",
       "WSgust           float64\n",
       "WSstdev          float64\n",
       "WD               float64\n",
       "WDstdev          float64\n",
       "BP                 int64\n",
       "Cleaning           int64\n",
       "Precipitation    float64\n",
       "TModA            float64\n",
       "TModB            float64\n",
       "Comments         float64\n",
       "dtype: object"
      ]
     },
     "execution_count": 9,
     "metadata": {},
     "output_type": "execute_result"
    }
   ],
   "source": [
    "da.dtypes"
   ]
  },
  {
   "cell_type": "code",
   "execution_count": 10,
   "metadata": {},
   "outputs": [
    {
     "data": {
      "text/plain": [
       "Timestamp         object\n",
       "GHI              float64\n",
       "DNI              float64\n",
       "DHI              float64\n",
       "ModA             float64\n",
       "ModB             float64\n",
       "Tamb             float64\n",
       "RH               float64\n",
       "WS               float64\n",
       "WSgust           float64\n",
       "WSstdev          float64\n",
       "WD               float64\n",
       "WDstdev          float64\n",
       "BP                 int64\n",
       "Cleaning           int64\n",
       "Precipitation    float64\n",
       "TModA            float64\n",
       "TModB            float64\n",
       "Comments         float64\n",
       "dtype: object"
      ]
     },
     "execution_count": 10,
     "metadata": {},
     "output_type": "execute_result"
    }
   ],
   "source": [
    "dt.dtypes"
   ]
  }
 ],
 "metadata": {
  "kernelspec": {
   "display_name": ".venv",
   "language": "python",
   "name": "python3"
  },
  "language_info": {
   "codemirror_mode": {
    "name": "ipython",
    "version": 3
   },
   "file_extension": ".py",
   "mimetype": "text/x-python",
   "name": "python",
   "nbconvert_exporter": "python",
   "pygments_lexer": "ipython3",
   "version": "3.12.1"
  }
 },
 "nbformat": 4,
 "nbformat_minor": 2
}
